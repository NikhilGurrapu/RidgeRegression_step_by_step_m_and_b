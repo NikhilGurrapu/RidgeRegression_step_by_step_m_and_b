{
  "nbformat": 4,
  "nbformat_minor": 0,
  "metadata": {
    "colab": {
      "provenance": [],
      "authorship_tag": "ABX9TyMYMKUmB9p3dSYs1AAQ1goL",
      "include_colab_link": true
    },
    "kernelspec": {
      "name": "python3",
      "display_name": "Python 3"
    },
    "language_info": {
      "name": "python"
    }
  },
  "cells": [
    {
      "cell_type": "markdown",
      "metadata": {
        "id": "view-in-github",
        "colab_type": "text"
      },
      "source": [
        "<a href=\"https://colab.research.google.com/github/NikhilGurrapu/RidgeRegression_step_by_step_m_and_b/blob/main/RidgeRegression_step_by_step_m_and_b.ipynb\" target=\"_parent\"><img src=\"https://colab.research.google.com/assets/colab-badge.svg\" alt=\"Open In Colab\"/></a>"
      ]
    },
    {
      "cell_type": "markdown",
      "source": [
        "# Importing required libraries"
      ],
      "metadata": {
        "id": "dhgKrBoCOOcb"
      }
    },
    {
      "cell_type": "code",
      "execution_count": 201,
      "metadata": {
        "id": "Ww2nkVlw_LoO"
      },
      "outputs": [],
      "source": [
        "from sklearn.datasets import make_regression\n",
        "from sklearn.linear_model import LinearRegression, Ridge\n",
        "import matplotlib.pyplot as plt\n",
        "import numpy as np\n",
        "from sklearn.model_selection import train_test_split\n",
        "from sklearn.metrics import r2_score"
      ]
    },
    {
      "cell_type": "markdown",
      "source": [
        "# making regression dataset"
      ],
      "metadata": {
        "id": "4EPIxTntOTrf"
      }
    },
    {
      "cell_type": "code",
      "source": [
        "X,y = make_regression(n_samples=200, n_features=1, n_informative=1, n_targets=1, noise=50, random_state=42)"
      ],
      "metadata": {
        "id": "DWIixSN-_Uq6"
      },
      "execution_count": 202,
      "outputs": []
    },
    {
      "cell_type": "code",
      "source": [
        "plt.scatter(X,y)"
      ],
      "metadata": {
        "colab": {
          "base_uri": "https://localhost:8080/",
          "height": 284
        },
        "id": "NSjVcJbh_1ni",
        "outputId": "e497141c-65a0-4ad1-d05f-02bcda7ebaea"
      },
      "execution_count": 203,
      "outputs": [
        {
          "output_type": "execute_result",
          "data": {
            "text/plain": [
              "<matplotlib.collections.PathCollection at 0x7fbcce602e50>"
            ]
          },
          "metadata": {},
          "execution_count": 203
        },
        {
          "output_type": "display_data",
          "data": {
            "text/plain": [
              "<Figure size 432x288 with 1 Axes>"
            ],
            "image/png": "[encoded data removed]"
          },
          "metadata": {
            "needs_background": "light"
          }
        }
      ]
    },
    {
      "cell_type": "markdown",
      "source": [
        "# splitting train test set"
      ],
      "metadata": {
        "id": "ZHVfSNmEOXLu"
      }
    },
    {
      "cell_type": "code",
      "source": [
        "X_train, X_test, y_train, y_test = train_test_split(X,y,test_size=20,random_state=42)"
      ],
      "metadata": {
        "id": "xsSsiIzNB5xu"
      },
      "execution_count": 204,
      "outputs": []
    },
    {
      "cell_type": "markdown",
      "source": [
        "# Building LinearRegression"
      ],
      "metadata": {
        "id": "XhKHX57TObMn"
      }
    },
    {
      "cell_type": "code",
      "source": [
        "lr = LinearRegression()\n",
        "lr.fit(X_train,y_train)\n",
        "print(lr.coef_,\"\\n\",lr.intercept_)\n",
        "y_pred = lr.predict(X_test)\n",
        "r2_score(y_test,y_pred)"
      ],
      "metadata": {
        "colab": {
          "base_uri": "https://localhost:8080/"
        },
        "id": "nzcpcj76_7oq",
        "outputId": "3137fb63-eb48-4d56-f0d8-71fbb2fe66cc"
      },
      "execution_count": 205,
      "outputs": [
        {
          "output_type": "stream",
          "name": "stdout",
          "text": [
            "[86.52915698] \n",
            " 6.4304221869151865\n"
          ]
        },
        {
          "output_type": "execute_result",
          "data": {
            "text/plain": [
              "0.7561829865790544"
            ]
          },
          "metadata": {},
          "execution_count": 205
        }
      ]
    },
    {
      "cell_type": "markdown",
      "source": [
        "# Building Ridge Regression \n",
        "## alpha = 10"
      ],
      "metadata": {
        "id": "Hunm98G-OiCy"
      }
    },
    {
      "cell_type": "code",
      "source": [
        "rr = Ridge(alpha = 10)\n",
        "rr.fit(X_train,y_train)\n",
        "print(rr.coef_,\"\\n\",rr.intercept_)\n",
        "y_pred = rr.predict(X_test)\n",
        "r2_score(y_test,y_pred)"
      ],
      "metadata": {
        "colab": {
          "base_uri": "https://localhost:8080/"
        },
        "id": "EfbRmXu0AkFQ",
        "outputId": "b6035131-d1e7-45fd-e1f6-cbfff7f59729"
      },
      "execution_count": 206,
      "outputs": [
        {
          "output_type": "stream",
          "name": "stdout",
          "text": [
            "[81.23384292] \n",
            " 6.428545066956272\n"
          ]
        },
        {
          "output_type": "execute_result",
          "data": {
            "text/plain": [
              "0.7610033427240392"
            ]
          },
          "metadata": {},
          "execution_count": 206
        }
      ]
    },
    {
      "cell_type": "markdown",
      "source": [
        "# Building Rdige Regression\n",
        "## alpha = 100"
      ],
      "metadata": {
        "id": "Atl4o3lmOo7D"
      }
    },
    {
      "cell_type": "code",
      "source": [
        "rr1 = Ridge(alpha = 100)\n",
        "rr1.fit(X_train,y_train)\n",
        "print(rr1.coef_,\"\\n\",rr1.intercept_)\n",
        "y_pred = rr1.predict(X_test)\n",
        "r2_score(y_test,y_pred)"
      ],
      "metadata": {
        "colab": {
          "base_uri": "https://localhost:8080/"
        },
        "id": "ZV-5olNHA2Mm",
        "outputId": "635433eb-a86c-4eaa-d5ef-156dfa5a7e74"
      },
      "execution_count": 207,
      "outputs": [
        {
          "output_type": "stream",
          "name": "stdout",
          "text": [
            "[52.38284491] \n",
            " 6.418317763420481\n"
          ]
        },
        {
          "output_type": "execute_result",
          "data": {
            "text/plain": [
              "0.6555474976066431"
            ]
          },
          "metadata": {},
          "execution_count": 207
        }
      ]
    },
    {
      "cell_type": "markdown",
      "source": [
        "## Ridge Regression with alpha=10 gives better r2_score than LinearRegression and Ridge Regression with alpha=100 tends to under-fit"
      ],
      "metadata": {
        "id": "HIRDU6d7Ousg"
      }
    },
    {
      "cell_type": "code",
      "source": [
        "plt.figure(figsize=(14,7))\n",
        "plt.scatter(X_train,y_train,color='blue')\n",
        "plt.scatter(X_test,y_test,color='red')\n",
        "plt.plot(X,lr.predict(X), color='green',label='alpha=0')\n",
        "plt.plot(X,rr.predict(X), color='black',label='alpha=10')\n",
        "plt.plot(X,rr1.predict(X), color='yellow',label='alpha=100')\n",
        "plt.legend()\n",
        "plt.show()"
      ],
      "metadata": {
        "colab": {
          "base_uri": "https://localhost:8080/",
          "height": 428
        },
        "id": "n--iQg-_BCJ8",
        "outputId": "82e6b26a-b7be-4e96-cf81-881e0e081e2d"
      },
      "execution_count": 208,
      "outputs": [
        {
          "output_type": "display_data",
          "data": {
            "text/plain": [
              "<Figure size 1008x504 with 1 Axes>"
            ],
            "image/png": "[encoded data removed]"
          },
          "metadata": {
            "needs_background": "light"
          }
        }
      ]
    },
    {
      "cell_type": "markdown",
      "source": [
        "# Building Own Ridge Regression class"
      ],
      "metadata": {
        "id": "HZxeSZWQPPPX"
      }
    },
    {
      "cell_type": "code",
      "source": [
        "class RidgeRegression:\n",
        "  def __init__(self,alpha=0.1):\n",
        "    self.alpha = alpha\n",
        "    self.m = None \n",
        "    self.b = None\n",
        "  \n",
        "  def fit(self,X_train,y_train):\n",
        "    num = 0\n",
        "    den = 0\n",
        "\n",
        "    for i in range(X_train.shape[0]):\n",
        "      num = num + (y_train[i] - y_train.mean())*(X_train[i] - X_train.mean())\n",
        "      den = den + (X_train[i] - X_train.mean())**2\n",
        "\n",
        "    self.m = num/(den + self.alpha)\n",
        "    self.b = y_train.mean() - self.m * X_train.mean()\n",
        "\n",
        "    print(self.m,\"\\n\",self.b)\n",
        "  \n",
        "  def predict(self,X_test):\n",
        "    return self.m * X_test + self.b"
      ],
      "metadata": {
        "id": "SzmlYd3SBb47"
      },
      "execution_count": 209,
      "outputs": []
    },
    {
      "cell_type": "code",
      "source": [
        "rr = RidgeRegression(alpha=10)"
      ],
      "metadata": {
        "id": "c87SYLbvLeUk"
      },
      "execution_count": 210,
      "outputs": []
    },
    {
      "cell_type": "code",
      "source": [
        "rr.fit(X_train,y_train)"
      ],
      "metadata": {
        "colab": {
          "base_uri": "https://localhost:8080/"
        },
        "id": "BNHQNNI_MXo8",
        "outputId": "2afb3092-9371-4145-8cab-fbc368af9513"
      },
      "execution_count": 211,
      "outputs": [
        {
          "output_type": "stream",
          "name": "stdout",
          "text": [
            "[81.23384292] \n",
            " [6.42854507]\n"
          ]
        }
      ]
    },
    {
      "cell_type": "code",
      "source": [
        "y_pred = rr.predict(X_test)\n",
        "r2_score(y_test,y_pred)"
      ],
      "metadata": {
        "colab": {
          "base_uri": "https://localhost:8080/"
        },
        "id": "uaVIUfKrMkdc",
        "outputId": "224155dc-40c6-4cbc-c3a9-a2aca2111d32"
      },
      "execution_count": 212,
      "outputs": [
        {
          "output_type": "execute_result",
          "data": {
            "text/plain": [
              "0.7610033427240392"
            ]
          },
          "metadata": {},
          "execution_count": 212
        }
      ]
    }
  ]
}